{
  "nbformat": 4,
  "nbformat_minor": 0,
  "metadata": {
    "colab": {
      "provenance": [],
      "authorship_tag": "ABX9TyNF9DDvq6Ukz+3eJRtH4ukb",
      "include_colab_link": true
    },
    "kernelspec": {
      "name": "python3",
      "display_name": "Python 3"
    },
    "language_info": {
      "name": "python"
    }
  },
  "cells": [
    {
      "cell_type": "markdown",
      "metadata": {
        "id": "view-in-github",
        "colab_type": "text"
      },
      "source": [
        "<a href=\"https://colab.research.google.com/github/raphaelz306/DMC_Course/blob/main/Insp_Arribo_Camiones_Volvo.ipynb\" target=\"_parent\"><img src=\"https://colab.research.google.com/assets/colab-badge.svg\" alt=\"Open In Colab\"/></a>"
      ]
    },
    {
      "cell_type": "code",
      "execution_count": 3,
      "metadata": {
        "colab": {
          "base_uri": "https://localhost:8080/"
        },
        "id": "OgDQ9ZzFeJHc",
        "outputId": "1c4c21be-f820-4937-9cd0-ac423e56f7f0"
      },
      "outputs": [
        {
          "output_type": "stream",
          "name": "stdout",
          "text": [
            "Looking in indexes: https://pypi.org/simple, https://us-python.pkg.dev/colab-wheels/public/simple/\n",
            "Requirement already satisfied: xlrd in /usr/local/lib/python3.10/dist-packages (2.0.1)\n"
          ]
        }
      ],
      "source": [
        "#importar las librerias necesarias para el tema\n",
        "import pandas as pd \n",
        "!pip install xlrd\n"
      ]
    },
    {
      "cell_type": "code",
      "source": [
        "pd.read_html('/content/ControlUnidades-VOLVO.xls')  "
      ],
      "metadata": {
        "colab": {
          "base_uri": "https://localhost:8080/"
        },
        "id": "I0LWTtpaeYHg",
        "outputId": "3ddfedc1-e3b0-4625-c270-4f643f365a71"
      },
      "execution_count": 6,
      "outputs": [
        {
          "output_type": "execute_result",
          "data": {
            "text/plain": [
              "[     0       1    2          3        4         5         6         7    8   \\\n",
              " 0  F.O.  Chasis  CDD  Ing.Orden  Factura  F.Factur  Sal.Fáb.  Ing.Pais  ETA   \n",
              " \n",
              "        9   ...                 68             69           70        71  \\\n",
              " 0  Estado  ...  Estado Asignación  LT Producción  LT Transito  LT Venta   \n",
              " \n",
              "          72         73                74                      75  \\\n",
              " 0  LT Total  Modelo TP  Modelo Comercial  Lugar Tramite de placa   \n",
              " \n",
              "                 76              77  \n",
              " 0  Tiene Cont Mant  Tipo Cont Mant  \n",
              " \n",
              " [1 rows x 78 columns],\n",
              "             0         1           2           3         4           5   \\\n",
              " 0       102504  892126.0  19/12/2020  04/09/2020   12632.0  08/12/2020   \n",
              " 1     20172566  880032.0  25/07/2021  03/12/2020  212549.0  15/06/2021   \n",
              " 2     20172567  347728.0  18/07/2021  03/12/2020  210486.0  25/05/2021   \n",
              " 3     20172576  347076.0  18/07/2021  03/12/2020  210486.0  25/05/2021   \n",
              " 4     20172589  347107.0  18/07/2021  03/12/2020  210486.0  25/05/2021   \n",
              " ...        ...       ...         ...         ...       ...         ...   \n",
              " 1175  23084457       NaN  16/08/2023         NaN       NaN         NaN   \n",
              " 1176  23084484       NaN  24/08/2023         NaN       NaN         NaN   \n",
              " 1177  23084504       NaN  24/08/2023         NaN       NaN         NaN   \n",
              " 1178   9015340  869048.0  24/05/2021  07/02/2019   11146.0  20/05/2019   \n",
              " 1179   9053476  873469.0  21/09/2019  06/05/2019   11508.0  19/08/2019   \n",
              " \n",
              "               6           7           8           9   ...        68     69  \\\n",
              " 0     08/12/2020  17/12/2020  18/12/2020     De Baja  ...  Proyecto   95.0   \n",
              " 1     14/06/2021  25/07/2021  26/07/2021     De Baja  ...  Proyecto  194.0   \n",
              " 2     23/05/2021  18/07/2021  20/07/2021     De Baja  ...  Proyecto  173.0   \n",
              " 3     23/05/2021  18/07/2021  20/07/2021     De Baja  ...  Proyecto  173.0   \n",
              " 4     23/05/2021  18/07/2021  20/07/2021     De Baja  ...  Proyecto  173.0   \n",
              " ...          ...         ...         ...         ...  ...       ...    ...   \n",
              " 1175         NaN         NaN         NaN  Producción  ...  Asignado    NaN   \n",
              " 1176         NaN         NaN         NaN  Producción  ...  Asignado    NaN   \n",
              " 1177         NaN         NaN         NaN  Producción  ...  Asignado    NaN   \n",
              " 1178  21/05/2019  27/05/2019  30/05/2019     De Baja  ...  Asignado  102.0   \n",
              " 1179  26/08/2019  25/09/2019  27/09/2019     De Baja  ...  Asignado  105.0   \n",
              " \n",
              "         70  71     72        73                    74                  75  76  \\\n",
              " 0      9.0 NaN    NaN  FH 6x4 T  FH 6X4 T Aire Euro 5                 NaN  No   \n",
              " 1     40.0 NaN    NaN       NaN      FM 6x4 T Aire E5                 NaN  No   \n",
              " 2     54.0 NaN    NaN       NaN      FM 6x4 T Aire E5                 NaN  No   \n",
              " 3     54.0 NaN    NaN       NaN      FH 6x4 T Aire E5                 NaN  No   \n",
              " 4     54.0 NaN    NaN       NaN      FH 6x4 T Aire E5                 NaN  No   \n",
              " ...    ...  ..    ...       ...                   ...                 ...  ..   \n",
              " 1175   NaN NaN    NaN       NaN  FMX 6x4 R Muelles E5                 NaN  No   \n",
              " 1176   NaN NaN    NaN       NaN   FH 6x4 R Muelles E5                 NaN  No   \n",
              " 1177   NaN NaN    NaN       NaN     FH 6x4 R Heavy E5                 NaN  No   \n",
              " 1178   7.0 NaN  249.0  FH 6x4 T  FH 6X4 T Aire Euro 5  LIMA / LIMA / LIMA  No   \n",
              " 1179  37.0 NaN    NaN  FM 6x4 T  FM 6X4 T Aire Euro 5  LIMA / LIMA / LIMA  No   \n",
              " \n",
              "        77  \n",
              " 0     NaN  \n",
              " 1     NaN  \n",
              " 2     NaN  \n",
              " 3     NaN  \n",
              " 4     NaN  \n",
              " ...   ...  \n",
              " 1175  NaN  \n",
              " 1176  NaN  \n",
              " 1177  NaN  \n",
              " 1178  NaN  \n",
              " 1179  NaN  \n",
              " \n",
              " [1180 rows x 78 columns]]"
            ]
          },
          "metadata": {},
          "execution_count": 6
        }
      ]
    },
    {
      "cell_type": "code",
      "source": [
        "  "
      ],
      "metadata": {
        "id": "C-pJKAxehTav"
      },
      "execution_count": null,
      "outputs": []
    }
  ]
}